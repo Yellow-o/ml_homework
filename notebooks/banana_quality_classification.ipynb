{
 "cells": [
  {
   "cell_type": "markdown",
   "id": "f6de1ad3",
   "metadata": {},
   "source": [
    "# Banana Quality Classification: Logistic Regression + KNN\n",
    "\n",
    "This notebook implements two traditional algorithms on the `banana_quality.csv` dataset:\n",
    "1. Logistic Regression for classification\n",
    "2. K-Nearest Neighbors for classification\n"
   ]
  },
  {
   "cell_type": "code",
   "execution_count": 10,
   "id": "3c4fd8b6",
   "metadata": {},
   "outputs": [],
   "source": [
    "# 1. Import necessary libraries\n",
    "import pandas as pd\n",
    "import numpy as np\n",
    "\n",
    "from sklearn.model_selection import train_test_split\n",
    "from sklearn.preprocessing import StandardScaler, LabelEncoder\n",
    "from sklearn.linear_model import LogisticRegression\n",
    "from sklearn.neighbors import KNeighborsClassifier\n",
    "from sklearn.metrics import (\n",
    "    accuracy_score,\n",
    "    confusion_matrix,\n",
    "    classification_report,\n",
    "    roc_curve, auc\n",
    ")\n",
    "import matplotlib.pyplot as plt"
   ]
  },
  {
   "cell_type": "code",
   "execution_count": 11,
   "id": "d9f4172e",
   "metadata": {},
   "outputs": [
    {
     "name": "stdout",
     "output_type": "stream",
     "text": [
      "Data shape: (8000, 8)\n",
      "Columns: ['Size', 'Weight', 'Sweetness', 'Softness', 'HarvestTime', 'Ripeness', 'Acidity', 'Quality']\n"
     ]
    },
    {
     "data": {
      "text/html": [
       "<div>\n",
       "<style scoped>\n",
       "    .dataframe tbody tr th:only-of-type {\n",
       "        vertical-align: middle;\n",
       "    }\n",
       "\n",
       "    .dataframe tbody tr th {\n",
       "        vertical-align: top;\n",
       "    }\n",
       "\n",
       "    .dataframe thead th {\n",
       "        text-align: right;\n",
       "    }\n",
       "</style>\n",
       "<table border=\"1\" class=\"dataframe\">\n",
       "  <thead>\n",
       "    <tr style=\"text-align: right;\">\n",
       "      <th></th>\n",
       "      <th>Size</th>\n",
       "      <th>Weight</th>\n",
       "      <th>Sweetness</th>\n",
       "      <th>Softness</th>\n",
       "      <th>HarvestTime</th>\n",
       "      <th>Ripeness</th>\n",
       "      <th>Acidity</th>\n",
       "      <th>Quality</th>\n",
       "    </tr>\n",
       "  </thead>\n",
       "  <tbody>\n",
       "    <tr>\n",
       "      <th>0</th>\n",
       "      <td>-1.924968</td>\n",
       "      <td>0.468078</td>\n",
       "      <td>3.077832</td>\n",
       "      <td>-1.472177</td>\n",
       "      <td>0.294799</td>\n",
       "      <td>2.435570</td>\n",
       "      <td>0.271290</td>\n",
       "      <td>Good</td>\n",
       "    </tr>\n",
       "    <tr>\n",
       "      <th>1</th>\n",
       "      <td>-2.409751</td>\n",
       "      <td>0.486870</td>\n",
       "      <td>0.346921</td>\n",
       "      <td>-2.495099</td>\n",
       "      <td>-0.892213</td>\n",
       "      <td>2.067549</td>\n",
       "      <td>0.307325</td>\n",
       "      <td>Good</td>\n",
       "    </tr>\n",
       "    <tr>\n",
       "      <th>2</th>\n",
       "      <td>-0.357607</td>\n",
       "      <td>1.483176</td>\n",
       "      <td>1.568452</td>\n",
       "      <td>-2.645145</td>\n",
       "      <td>-0.647267</td>\n",
       "      <td>3.090643</td>\n",
       "      <td>1.427322</td>\n",
       "      <td>Good</td>\n",
       "    </tr>\n",
       "    <tr>\n",
       "      <th>3</th>\n",
       "      <td>-0.868524</td>\n",
       "      <td>1.566201</td>\n",
       "      <td>1.889605</td>\n",
       "      <td>-1.273761</td>\n",
       "      <td>-1.006278</td>\n",
       "      <td>1.873001</td>\n",
       "      <td>0.477862</td>\n",
       "      <td>Good</td>\n",
       "    </tr>\n",
       "    <tr>\n",
       "      <th>4</th>\n",
       "      <td>0.651825</td>\n",
       "      <td>1.319199</td>\n",
       "      <td>-0.022459</td>\n",
       "      <td>-1.209709</td>\n",
       "      <td>-1.430692</td>\n",
       "      <td>1.078345</td>\n",
       "      <td>2.812442</td>\n",
       "      <td>Good</td>\n",
       "    </tr>\n",
       "  </tbody>\n",
       "</table>\n",
       "</div>"
      ],
      "text/plain": [
       "       Size    Weight  Sweetness  Softness  HarvestTime  Ripeness   Acidity  \\\n",
       "0 -1.924968  0.468078   3.077832 -1.472177     0.294799  2.435570  0.271290   \n",
       "1 -2.409751  0.486870   0.346921 -2.495099    -0.892213  2.067549  0.307325   \n",
       "2 -0.357607  1.483176   1.568452 -2.645145    -0.647267  3.090643  1.427322   \n",
       "3 -0.868524  1.566201   1.889605 -1.273761    -1.006278  1.873001  0.477862   \n",
       "4  0.651825  1.319199  -0.022459 -1.209709    -1.430692  1.078345  2.812442   \n",
       "\n",
       "  Quality  \n",
       "0    Good  \n",
       "1    Good  \n",
       "2    Good  \n",
       "3    Good  \n",
       "4    Good  "
      ]
     },
     "execution_count": 11,
     "metadata": {},
     "output_type": "execute_result"
    }
   ],
   "source": [
    "# 2. Load and inspect data\n",
    "df = pd.read_csv('banana_quality.csv')\n",
    "print('Data shape:', df.shape)\n",
    "print('Columns:', df.columns.tolist())\n",
    "df.head()"
   ]
  },
  {
   "cell_type": "code",
   "execution_count": 12,
   "id": "ee377563",
   "metadata": {},
   "outputs": [
    {
     "name": "stdout",
     "output_type": "stream",
     "text": [
      "Mapping: {'Bad': np.int64(0), 'Good': np.int64(1)}\n"
     ]
    }
   ],
   "source": [
    "# 3. Encode the Quality label\n",
    "le = LabelEncoder()\n",
    "df['QualityEnc'] = le.fit_transform(df['Quality'])\n",
    "print('Mapping:', dict(zip(le.classes_, le.transform(le.classes_))))"
   ]
  },
  {
   "cell_type": "code",
   "execution_count": 13,
   "id": "ba263e9a",
   "metadata": {},
   "outputs": [
    {
     "name": "stdout",
     "output_type": "stream",
     "text": [
      "X shape: (8000, 7) Label distribution: [3994 4006]\n"
     ]
    }
   ],
   "source": [
    "# 4. Split features and target\n",
    "feature_cols = [c for c in df.columns if c not in ['Quality', 'QualityEnc']]\n",
    "X = df[feature_cols].values\n",
    "y = df['QualityEnc'].values\n",
    "print('X shape:', X.shape, 'Label distribution:', np.bincount(y))"
   ]
  },
  {
   "cell_type": "code",
   "execution_count": 14,
   "id": "6874c325",
   "metadata": {},
   "outputs": [
    {
     "name": "stdout",
     "output_type": "stream",
     "text": [
      "Train shape: (6400, 7) Test shape: (1600, 7)\n"
     ]
    }
   ],
   "source": [
    "# 5. Train-test split and scaling\n",
    "X_train, X_test, y_train, y_test = train_test_split(\n",
    "    X, y, test_size=0.2, stratify=y, random_state=42\n",
    ")\n",
    "scaler = StandardScaler()\n",
    "X_train_s = scaler.fit_transform(X_train)\n",
    "X_test_s = scaler.transform(X_test)\n",
    "print('Train shape:', X_train_s.shape, 'Test shape:', X_test_s.shape)"
   ]
  },
  {
   "cell_type": "code",
   "execution_count": 15,
   "id": "9db9f24f",
   "metadata": {},
   "outputs": [
    {
     "name": "stdout",
     "output_type": "stream",
     "text": [
      "=== Logistic Regression ===\n",
      "Accuracy: 0.87125\n",
      "Confusion Matrix:\n",
      " [[677 122]\n",
      " [ 84 717]]\n",
      "Classification Report:\n",
      "               precision    recall  f1-score   support\n",
      "\n",
      "         Bad       0.89      0.85      0.87       799\n",
      "        Good       0.85      0.90      0.87       801\n",
      "\n",
      "    accuracy                           0.87      1600\n",
      "   macro avg       0.87      0.87      0.87      1600\n",
      "weighted avg       0.87      0.87      0.87      1600\n",
      "\n",
      "=== KNN ===\n",
      "Accuracy: 0.9775\n",
      "Confusion Matrix:\n",
      " [[785  14]\n",
      " [ 22 779]]\n",
      "Classification Report:\n",
      "               precision    recall  f1-score   support\n",
      "\n",
      "         Bad       0.97      0.98      0.98       799\n",
      "        Good       0.98      0.97      0.98       801\n",
      "\n",
      "    accuracy                           0.98      1600\n",
      "   macro avg       0.98      0.98      0.98      1600\n",
      "weighted avg       0.98      0.98      0.98      1600\n",
      "\n"
     ]
    }
   ],
   "source": [
    "# 6. Train and evaluate Logistic Regression and KNN\n",
    "models = {\n",
    "    'Logistic Regression': LogisticRegression(solver='lbfgs', max_iter=1000, random_state=42),\n",
    "    'KNN': KNeighborsClassifier(n_neighbors=5, weights='distance', p=2)\n",
    "}\n",
    "\n",
    "results = {}\n",
    "for name, model in models.items():\n",
    "    model.fit(X_train_s, y_train)\n",
    "    y_pred = model.predict(X_test_s)\n",
    "    y_proba = model.predict_proba(X_test_s)[:,1]\n",
    "    acc = accuracy_score(y_test, y_pred)\n",
    "    cm = confusion_matrix(y_test, y_pred)\n",
    "    results[name] = (acc, cm, y_pred, y_proba)\n",
    "    print(f'=== {name} ===')\n",
    "    print('Accuracy:', acc)\n",
    "    print('Confusion Matrix:\\n', cm)\n",
    "    print('Classification Report:\\n', classification_report(y_test, y_pred, target_names=le.classes_))"
   ]
  },
  {
   "cell_type": "code",
   "execution_count": 16,
   "id": "ee4c67e1",
   "metadata": {},
   "outputs": [
    {
     "data": {
      "image/png": "[encoded data removed]",
      "text/plain": [
       "<Figure size 640x480 with 1 Axes>"
      ]
     },
     "metadata": {},
     "output_type": "display_data"
    }
   ],
   "source": [
    "# 7. Plot accuracy comparison\n",
    "plt.figure()\n",
    "plt.bar(results.keys(), [r[0] for r in results.values()])\n",
    "plt.ylim(0,1)\n",
    "plt.title('Model Accuracy Comparison')\n",
    "plt.ylabel('Accuracy')\n",
    "plt.show()"
   ]
  },
  {
   "cell_type": "code",
   "execution_count": 17,
   "id": "ea1bb525",
   "metadata": {},
   "outputs": [
    {
     "data": {
      "image/png": "[encoded data removed]",
      "text/plain": [
       "<Figure size 640x480 with 1 Axes>"
      ]
     },
     "metadata": {},
     "output_type": "display_data"
    }
   ],
   "source": [
    "# 8. Plot ROC curves\n",
    "plt.figure()\n",
    "for name, (_, _, _, y_proba) in results.items():\n",
    "    fpr, tpr, _ = roc_curve(y_test, y_proba)\n",
    "    roc_auc = auc(fpr, tpr)\n",
    "    plt.plot(fpr, tpr, label=f'{name} (AUC={roc_auc:.2f})')\n",
    "plt.plot([0,1], [0,1], 'k--')\n",
    "plt.title('ROC Curves')\n",
    "plt.xlabel('False Positive Rate')\n",
    "plt.ylabel('True Positive Rate')\n",
    "plt.legend()\n",
    "plt.show()"
   ]
  },
  {
   "cell_type": "code",
   "execution_count": null,
   "id": "a57aaf95-e7d8-4b4c-8ec4-62c03389ecbf",
   "metadata": {},
   "outputs": [],
   "source": []
  },
  {
   "cell_type": "code",
   "execution_count": null,
   "id": "959f6c3f-60a2-4637-9615-b24f433249cf",
   "metadata": {},
   "outputs": [],
   "source": []
  },
  {
   "cell_type": "code",
   "execution_count": null,
   "id": "7705fdd1-02b8-4d41-9009-828ac577158e",
   "metadata": {},
   "outputs": [],
   "source": []
  },
  {
   "cell_type": "code",
   "execution_count": null,
   "id": "c4268a6f-f9e0-43a4-a84a-47a77b6b7f7d",
   "metadata": {},
   "outputs": [],
   "source": []
  }
 ],
 "metadata": {
  "kernelspec": {
   "display_name": "Python 3 (ipykernel)",
   "language": "python",
   "name": "python3"
  },
  "language_info": {
   "codemirror_mode": {
    "name": "ipython",
    "version": 3
   },
   "file_extension": ".py",
   "mimetype": "text/x-python",
   "name": "python",
   "nbconvert_exporter": "python",
   "pygments_lexer": "ipython3",
   "version": "3.9.6"
  }
 },
 "nbformat": 4,
 "nbformat_minor": 5
}
